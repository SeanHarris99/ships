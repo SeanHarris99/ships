{
 "cells": [
  {
   "cell_type": "code",
   "execution_count": null,
   "metadata": {},
   "outputs": [],
   "source": [
    "import os\n",
    "import requests\n",
    "import pandas as pd\n",
    "import numpy as np\n",
    "\n",
    "from pystac_client import Client\n",
    "from shapely.geometry import shape, Point\n",
    "\n",
    "import geopandas as gpd\n",
    "import matplotlib.pyplot as plt\n",
    "\n",
    "\n",
    "from datetime import timedelta\n",
    "\n",
    "from planetary_computer import sign\n",
    "from stackstac import stack\n",
    "import rasterio\n",
    "import matplotlib.pyplot as plt\n",
    "import geopandas as gpd\n",
    "from shapely.geometry import Point\n",
    "import datetime"
   ]
  },
  {
   "cell_type": "code",
   "execution_count": null,
   "metadata": {},
   "outputs": [],
   "source": [
    "ais = pd.read_parquet('data/gulf_jan/intersections.parquet').drop(columns='geometry')"
   ]
  },
  {
   "cell_type": "code",
   "execution_count": null,
   "metadata": {},
   "outputs": [],
   "source": [
    "from pystac_client import Client\n",
    "api = Client.open(\"https://planetarycomputer.microsoft.com/api/stac/v1\")\n"
   ]
  },
  {
   "cell_type": "code",
   "execution_count": null,
   "metadata": {},
   "outputs": [],
   "source": [
    "ais.sample()"
   ]
  },
  {
   "cell_type": "code",
   "execution_count": null,
   "metadata": {},
   "outputs": [],
   "source": [
    "# Choose a row index from your AIS dataframe\n",
    "ais_idx = 78787  # <- change this to whatever row you're investigating\n",
    "row = ais.iloc[ais_idx]\n",
    "print(f\"Selected MMSI: {row['MMSI']} @ {row['BaseDateTime']}\")\n",
    "\n",
    "# Define point and time buffer\n",
    "ais_point = Point(row[\"LON\"], row[\"LAT\"])\n",
    "time_buffer = timedelta(minutes=30)\n",
    "\n",
    "# Load image with a slightly bigger bbox (0.2° instead of 0.1°)\n",
    "search = api.search(\n",
    "    collections=[\"sentinel-2-l2a\"],\n",
    "    bbox=[row[\"LON\"] - 0.1, row[\"LAT\"] - 0.1, row[\"LON\"] + 0.1, row[\"LAT\"] + 0.1],\n",
    "    datetime=f\"{(row['BaseDateTime'] - time_buffer).isoformat()}/{(row['BaseDateTime'] + time_buffer).isoformat()}\",\n",
    "    query={\"eo:cloud_cover\": {\"lt\": 80}},\n",
    "    limit=5\n",
    ")\n",
    "\n",
    "items = list(search.get_items())\n",
    "\n",
    "\n",
    "tile_geom = shape(items[0].geometry)\n",
    "ais_point = Point(row[\"LON\"], row[\"LAT\"])\n",
    "\n",
    "print(\"Tile bounds:\", tile_geom.bounds)\n",
    "print(\"AIS point inside tile?\", tile_geom.contains(ais_point))\n",
    "\n",
    "\n",
    "if not items:\n",
    "    print(\"No Sentinel-2 tile found.\")\n",
    "else:\n",
    "    item = items[0]\n",
    "    signed_item = sign(item)\n",
    "\n",
    "    rgb_bands = [\"B04\", \"B03\", \"B02\"]\n",
    "    arr = stack([signed_item], assets=rgb_bands, epsg=4326, resolution=10)\n",
    "\n",
    "    # Crop around AIS point\n",
    "    buffer_deg = 0.01  # about 1 km at equator\n",
    "    cropped = arr.sel(\n",
    "        x=slice(row[\"LON\"] - buffer_deg, row[\"LON\"] + buffer_deg),\n",
    "        y=slice(row[\"LAT\"] + buffer_deg, row[\"LAT\"] - buffer_deg)  # lat reversed (north to south)\n",
    "    )\n",
    "\n",
    "    # Reshape and display\n",
    "    rgb = cropped.sel(band=rgb_bands).isel(time=0).transpose(\"band\", \"y\", \"x\")\n",
    "    img = rgb.transpose(\"y\", \"x\", \"band\").values\n",
    "\n",
    "    if img.size == 0:\n",
    "        print(\"Image crop returned no data (outside valid bounds).\")\n",
    "    else:\n",
    "        vmin, vmax = np.percentile(img[~np.isnan(img)], (2, 98))\n",
    "        img_scaled = np.clip((img - vmin) / (vmax - vmin), 0, 1)\n",
    "\n",
    "        plt.figure(figsize=(8, 8))\n",
    "        plt.imshow(img_scaled)\n",
    "        plt.title(f\"Ship @ {row['LAT']:.2f}, {row['LON']:.2f}\")\n",
    "        plt.axis(\"off\")\n",
    "        plt.show()"
   ]
  },
  {
   "cell_type": "code",
   "execution_count": null,
   "metadata": {},
   "outputs": [],
   "source": [
    "\n",
    "# Normalize and display with percentile stretch\n",
    "img_data = rgb.transpose(\"y\", \"x\", \"band\").values\n",
    "\n",
    "# Compute robust percentiles\n",
    "vmin = np.percentile(img_data, 2)\n",
    "vmax = np.percentile(img_data, 98)\n",
    "\n",
    "# Rescale\n",
    "img_scaled = np.clip((img_data - vmin) / (vmax - vmin), 0, 1)\n",
    "\n",
    "plt.figure(figsize=(10, 10))\n",
    "plt.imshow(img_scaled)\n",
    "plt.title(f\"MMSI {row['MMSI']} @ {row['BaseDateTime']}\")\n",
    "plt.axis(\"off\")\n",
    "plt.show()"
   ]
  },
  {
   "cell_type": "code",
   "execution_count": null,
   "metadata": {},
   "outputs": [],
   "source": [
    "print(rgb.shape, rgb.dtype, np.min(img_data), np.max(img_data))\n"
   ]
  }
 ],
 "metadata": {
  "kernelspec": {
   "display_name": "venvA",
   "language": "python",
   "name": "python3"
  },
  "language_info": {
   "codemirror_mode": {
    "name": "ipython",
    "version": 3
   },
   "file_extension": ".py",
   "mimetype": "text/x-python",
   "name": "python",
   "nbconvert_exporter": "python",
   "pygments_lexer": "ipython3",
   "version": "3.9.13"
  }
 },
 "nbformat": 4,
 "nbformat_minor": 2
}
