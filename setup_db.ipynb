{
 "cells": [
  {
   "cell_type": "code",
   "execution_count": 4,
   "metadata": {},
   "outputs": [],
   "source": [
    "import sqlite3\n",
    "\n",
    "db_path=\"../../data/ais.db\"\n",
    "conn = sqlite3.connect(db_path)\n",
    "cursor = conn.cursor()\n",
    "cursor.execute(\"\"\"\n",
    "    CREATE TABLE ais (\n",
    "        mmsi INTEGER,\n",
    "        timestamp TEXT,\n",
    "        latitude REAL,\n",
    "        longitude REAL,\n",
    "        sog REAL,\n",
    "        cog REAL,\n",
    "        heading REAL,\n",
    "        vessel_name TEXT,\n",
    "        imo TEXT,\n",
    "        callsign TEXT,\n",
    "        vessel_tyle INTEGER,\n",
    "        status INTEGER,\n",
    "        length REAL,\n",
    "        width REAL,\n",
    "        draft REAL,\n",
    "        cargo INTEGER,\n",
    "        tranceiver_class TEXT,\n",
    "        image_path TEXT,\n",
    "        PRIMARY KEY (mmsi, timestamp)\n",
    "    );\n",
    "\"\"\")\n",
    "conn.commit()\n",
    "conn.close()\n",
    "\n"
   ]
  },
  {
   "cell_type": "code",
   "execution_count": 5,
   "metadata": {},
   "outputs": [],
   "source": [
    "import pandas as pd\n",
    "\n",
    "conn = sqlite3.connect(db_path)\n",
    "test = pd.read_sql_query(\"SELECT * FROM ais\", conn)\n",
    "\n",
    "conn.close()\n",
    "test"
   ]
  }
 ],
 "metadata": {
  "kernelspec": {
   "display_name": "Python (ships-env)",
   "language": "python",
   "name": "ships-env"
  }
 },
 "nbformat": 4,
 "nbformat_minor": 2
}
