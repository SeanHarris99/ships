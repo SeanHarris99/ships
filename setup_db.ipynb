{
 "cells": [
  {
   "cell_type": "code",
   "execution_count": 4,
   "metadata": {},
   "outputs": [],
   "source": [
    "import sqlite3\n",
    "\n",
    "db_path=\"../../data/ais.db\"\n",
    "conn = sqlite3.connect(db_path)\n",
    "cursor = conn.cursor()\n",
    "cursor.execute(\"\"\"\n",
    "    CREATE TABLE ais (\n",
    "        mmsi INTEGER,\n",
    "        timestamp TEXT,\n",
    "        latitude REAL,\n",
    "        longitude REAL,\n",
    "        sog REAL,\n",
    "        cog REAL,\n",
    "        heading REAL,\n",
    "        vessel_name TEXT,\n",
    "        imo TEXT,\n",
    "        callsign TEXT,\n",
    "        vessel_tyle INTEGER,\n",
    "        status INTEGER,\n",
    "        length REAL,\n",
    "        width REAL,\n",
    "        draft REAL,\n",
    "        cargo INTEGER,\n",
    "        tranceiver_class TEXT,\n",
    "        image_path TEXT,\n",
    "        PRIMARY KEY (mmsi, timestamp)\n",
    "    );\n",
    "\"\"\")\n",
    "conn.commit()\n",
    "conn.close()\n",
    "\n"
   ]
  },
  {
   "cell_type": "code",
   "execution_count": 5,
   "metadata": {},
   "outputs": [
    {
     "data": {
      "text/html": [
       "<div>\n",
       "<style scoped>\n",
       "    .dataframe tbody tr th:only-of-type {\n",
       "        vertical-align: middle;\n",
       "    }\n",
       "\n",
       "    .dataframe tbody tr th {\n",
       "        vertical-align: top;\n",
       "    }\n",
       "\n",
       "    .dataframe thead th {\n",
       "        text-align: right;\n",
       "    }\n",
       "</style>\n",
       "<table border=\"1\" class=\"dataframe\">\n",
       "  <thead>\n",
       "    <tr style=\"text-align: right;\">\n",
       "      <th></th>\n",
       "      <th>mmsi</th>\n",
       "      <th>timestamp</th>\n",
       "      <th>latitude</th>\n",
       "      <th>longitude</th>\n",
       "      <th>sog</th>\n",
       "      <th>cog</th>\n",
       "      <th>heading</th>\n",
       "      <th>vessel_name</th>\n",
       "      <th>imo</th>\n",
       "      <th>callsign</th>\n",
       "      <th>vessel_tyle</th>\n",
       "      <th>status</th>\n",
       "      <th>length</th>\n",
       "      <th>width</th>\n",
       "      <th>draft</th>\n",
       "      <th>cargo</th>\n",
       "      <th>tranceiver_class</th>\n",
       "      <th>image_path</th>\n",
       "    </tr>\n",
       "  </thead>\n",
       "  <tbody>\n",
       "  </tbody>\n",
       "</table>\n",
       "</div>"
      ],
      "text/plain": [
       "Empty DataFrame\n",
       "Columns: [mmsi, timestamp, latitude, longitude, sog, cog, heading, vessel_name, imo, callsign, vessel_tyle, status, length, width, draft, cargo, tranceiver_class, image_path]\n",
       "Index: []"
      ]
     },
     "execution_count": 5,
     "metadata": {},
     "output_type": "execute_result"
    }
   ],
   "source": [
    "import pandas as pd\n",
    "\n",
    "conn = sqlite3.connect(db_path)\n",
    "test = pd.read_sql_query(\"SELECT * FROM ais\", conn)\n",
    "\n",
    "conn.close()\n",
    "test"
   ]
  }
 ],
 "metadata": {
  "kernelspec": {
   "display_name": "Python (ships-env)",
   "language": "python",
   "name": "ships-env"
  },
  "language_info": {
   "codemirror_mode": {
    "name": "ipython",
    "version": 3
   },
   "file_extension": ".py",
   "mimetype": "text/x-python",
   "name": "python",
   "nbconvert_exporter": "python",
   "pygments_lexer": "ipython3",
   "version": "3.9.20"
  }
 },
 "nbformat": 4,
 "nbformat_minor": 2
}
