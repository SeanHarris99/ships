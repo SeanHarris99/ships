{
 "cells": [
  {
   "cell_type": "code",
   "execution_count": null,
   "metadata": {},
   "outputs": [],
   "source": [
    "from io import BytesIO\n",
    "from zipfile import ZipFile\n",
    "import datetime\n",
    "from datetime import date, timedelta\n",
    "import os\n",
    "import requests\n",
    "import pandas as pd\n",
    "import numpy as np\n",
    "import time\n",
    "import socket\n",
    "\n",
    "import os\n",
    "import requests\n",
    "import pandas as pd\n",
    "import numpy as np\n",
    "\n",
    "from pystac_client import Client\n",
    "from shapely.geometry import shape, Point\n",
    "\n",
    "import geopandas as gpd\n",
    "import matplotlib.pyplot as plt\n",
    "\n",
    "\n",
    "from datetime import timedelta\n",
    "\n",
    "from planetary_computer import sign\n",
    "from stackstac import stack\n",
    "import rasterio\n",
    "import matplotlib.pyplot as plt\n",
    "import geopandas as gpd\n",
    "from shapely.geometry import Point\n",
    "import datetime\n",
    "\n",
    "import hvplot.pandas\n",
    "import panel as pn\n",
    "pn.extension('bokeh')\n",
    "\n",
    "import random\n",
    "\n",
    "from stackstac import stack\n",
    "from planetary_computer import sign\n",
    "import matplotlib.pyplot as plt\n",
    "import numpy as np\n",
    "import xarray as xr\n",
    "from odc.stac import load\n"
   ]
  },
  {
   "cell_type": "code",
   "execution_count": null,
   "metadata": {},
   "outputs": [],
   "source": [
    "target_date = pd.to_datetime(\"2023-05-01\").date()"
   ]
  },
  {
   "cell_type": "markdown",
   "metadata": {},
   "source": [
    "# get ais data"
   ]
  },
  {
   "cell_type": "code",
   "execution_count": null,
   "metadata": {},
   "outputs": [],
   "source": [
    "fname = f\"AIS_2023_{target_date.month:02d}_{target_date.day:02d}.zip\"\n",
    "url = f\"https://coast.noaa.gov/htdata/CMSP/AISDataHandler/2023/{fname}\"\n",
    "\n",
    "r = requests.get(url, timeout=60)\n",
    "with ZipFile(BytesIO(r.content)) as z:\n",
    "    csv_name = z.namelist()[0]\n",
    "    with z.open(csv_name) as f:\n",
    "        ais = pd.read_csv(f)\n",
    "        success = True\n",
    "\n",
    "\n",
    "# Clean\n",
    "ais = ais[ais.TransceiverClass == 'A']                      #large cargo ships, not personal vessels\n",
    "ais = ais[(ais.SOG > 1) & (ais.SOG < 80)]                   #drops ships in harbor, bad data\n",
    "ais = ais[(ais.Length > 30) & (ais.Length < 400)]           #drops small ships, bad data\n",
    "ais = ais.replace({'Heading': {511: np.nan}})               #heading 511 is nonrespondor, set to nan\n",
    "\n",
    "# Sort\n",
    "ais = ais.sort_values(by=['MMSI', 'BaseDateTime']).reset_index(drop=True)\n",
    "\n",
    "# Drop weak tracks\n",
    "mmsi_counts = ais.MMSI.value_counts()\n",
    "active = mmsi_counts[mmsi_counts >= 5].index\n",
    "ais = ais[ais[\"MMSI\"].isin(active)].reset_index(drop=True)\n",
    "\n",
    "#standardize date dtype\n",
    "ais[\"BaseDateTime\"] = pd.to_datetime(ais[\"BaseDateTime\"], utc=True)"
   ]
  },
  {
   "cell_type": "code",
   "execution_count": null,
   "metadata": {},
   "outputs": [],
   "source": [
    "ais.sample()"
   ]
  },
  {
   "cell_type": "markdown",
   "metadata": {},
   "source": [
    "# cut down to intersections"
   ]
  },
  {
   "cell_type": "code",
   "execution_count": null,
   "metadata": {},
   "outputs": [],
   "source": [
    "api = Client.open(\"https://planetarycomputer.microsoft.com/api/stac/v1\")"
   ]
  },
  {
   "cell_type": "code",
   "execution_count": null,
   "metadata": {},
   "outputs": [],
   "source": [
    "results = api.search(\n",
    "    collections=[\"sentinel-2-l2a\"],\n",
    "\n",
    "    bbox=[-160, 4, -50, 50],\n",
    "    datetime=str(target_date),\n",
    "    query={\"eo:cloud_cover\": {\"lt\": 30}}\n",
    ")"
   ]
  },
  {
   "cell_type": "code",
   "execution_count": null,
   "metadata": {},
   "outputs": [],
   "source": [
    "results = api.search(\n",
    "    collections=[\"sentinel-1-grd\"],\n",
    "\n",
    "    bbox=[-160, 4, -50, 50],\n",
    "    datetime='2023-05-01',#str(target_date),\n",
    ")"
   ]
  },
  {
   "cell_type": "code",
   "execution_count": null,
   "metadata": {},
   "outputs": [],
   "source": [
    "sentinel_passes = []\n",
    "for item in results.get_all_items():\n",
    "    geom = shape(item.geometry)\n",
    "    dt = item.datetime\n",
    "    sentinel_passes.append((geom, dt))\n",
    "\n",
    "print(len(sentinel_passes))"
   ]
  },
  {
   "cell_type": "code",
   "execution_count": null,
   "metadata": {},
   "outputs": [],
   "source": [
    "geoms = [poly for poly, _ in sentinel_passes]\n",
    "times = [dt for _, dt in sentinel_passes]\n",
    "\n",
    "gdf = gpd.GeoDataFrame({'datetime': times}, geometry=geoms, crs='EPSG:4326')"
   ]
  },
  {
   "cell_type": "code",
   "execution_count": null,
   "metadata": {},
   "outputs": [],
   "source": [
    "gdf.hvplot(\n",
    "    geo=True,\n",
    "    tiles='CartoLight',\n",
    "    line_color='blue',\n",
    "    line_width=0.5,\n",
    "    frame_width=900,\n",
    "    frame_height=600\n",
    ")"
   ]
  },
  {
   "cell_type": "code",
   "execution_count": null,
   "metadata": {},
   "outputs": [],
   "source": [
    "# Prep sentinel GeoDataFrame\n",
    "poly_list = []\n",
    "time_list = []\n",
    "\n",
    "filtered_passes = [\n",
    "    (poly, dt) for poly, dt in sentinel_passes\n",
    "    if dt.date() == target_date\n",
    "]\n",
    "\n",
    "poly_list = [poly for poly, _ in filtered_passes]\n",
    "time_list = [dt for _, dt in filtered_passes]\n",
    "\n",
    "sentinel_gdf = gpd.GeoDataFrame({'datetime': time_list}, geometry=poly_list, crs='EPSG:4326')"
   ]
  },
  {
   "cell_type": "code",
   "execution_count": null,
   "metadata": {},
   "outputs": [],
   "source": [
    "ais_gdf = gpd.GeoDataFrame(\n",
    "    ais,\n",
    "    geometry=gpd.points_from_xy(ais[\"LON\"], ais[\"LAT\"]),\n",
    "    crs='EPSG:4326'\n",
    ")\n",
    "\n",
    "# We'll accumulate matching AIS rows into this list\n",
    "matching_rows = []\n",
    "\n",
    "# Define time window in seconds\n",
    "TIME_WINDOW = timedelta(minutes=10)\n",
    "\n",
    "# Iterate over sentinel polygons\n",
    "for _, s2_row in sentinel_gdf.iterrows():\n",
    "    poly = s2_row.geometry\n",
    "    s2_time = s2_row.datetime\n",
    "\n",
    "    # Filter AIS to time window first (fast)\n",
    "    time_mask = (ais_gdf[\"BaseDateTime\"] >= s2_time - TIME_WINDOW) & \\\n",
    "                (ais_gdf[\"BaseDateTime\"] <= s2_time + TIME_WINDOW)\n",
    "    candidate_ais = ais_gdf[time_mask]\n",
    "\n",
    "    # Spatial filter: points inside this polygon\n",
    "    inside_mask = candidate_ais.geometry.intersects(poly)\n",
    "    intersecting = candidate_ais[inside_mask]\n",
    "\n",
    "    if not intersecting.empty:\n",
    "        matching_rows.append(intersecting)\n",
    "\n",
    "# Concatenate results into one DataFrame\n",
    "ais_intersecting = pd.concat(matching_rows, ignore_index=True)"
   ]
  },
  {
   "cell_type": "code",
   "execution_count": null,
   "metadata": {},
   "outputs": [],
   "source": [
    "len(ais)"
   ]
  },
  {
   "cell_type": "code",
   "execution_count": null,
   "metadata": {},
   "outputs": [],
   "source": [
    "len(ais_intersecting)"
   ]
  },
  {
   "cell_type": "code",
   "execution_count": null,
   "metadata": {},
   "outputs": [],
   "source": [
    "# Convert gulf_df into GeoDataFrame\n",
    "ais_gdf = gpd.GeoDataFrame(\n",
    "    ais_intersecting,\n",
    "    geometry=gpd.points_from_xy(ais_intersecting[\"LON\"], ais_intersecting[\"LAT\"]),\n",
    "    crs=\"EPSG:4326\"\n",
    ")\n",
    "\n",
    "# Optional: filter AIS to a single day to avoid clutter\n",
    "ais_gdf[\"BaseDateTime\"] = pd.to_datetime(ais_gdf[\"BaseDateTime\"])\n",
    "ais_day = ais_gdf[\n",
    "    (ais_gdf[\"BaseDateTime\"].dt.date == target_date)\n",
    "]\n",
    "\n",
    "# Plot S2 footprints + AIS pings\n",
    "fig, ax = plt.subplots(figsize=(10, 6))\n",
    "gdf.plot(ax=ax, edgecolor='blue', facecolor='none', linewidth=0.5)\n",
    "ais_day.plot(ax=ax, color='red', markersize=2, alpha=0.5)\n",
    "\n",
    "ax.set_title('Sentinel-2 Overpasses + AIS Ship Positions (2023-01-01)')\n",
    "ax.set_xlabel('Longitude')\n",
    "ax.set_ylabel('Latitude')\n",
    "ax.grid(True)\n",
    "plt.show()"
   ]
  },
  {
   "cell_type": "code",
   "execution_count": null,
   "metadata": {},
   "outputs": [],
   "source": []
  },
  {
   "cell_type": "markdown",
   "metadata": {},
   "source": [
    "# get sat image"
   ]
  },
  {
   "cell_type": "code",
   "execution_count": null,
   "metadata": {},
   "outputs": [],
   "source": [
    "api = Client.open(\"https://planetarycomputer.microsoft.com/api/stac/v1\")"
   ]
  },
  {
   "cell_type": "code",
   "execution_count": null,
   "metadata": {},
   "outputs": [],
   "source": [
    "row = ais_intersecting.iloc[random.randint(0,len(ais_intersecting))]\n",
    "print(f\"Selected MMSI: {row['MMSI']} @ {row['BaseDateTime']}\")\n",
    "\n",
    "ais_point = Point(row[\"LON\"], row[\"LAT\"])\n",
    "time_buffer = timedelta(minutes=30)"
   ]
  },
  {
   "cell_type": "code",
   "execution_count": null,
   "metadata": {},
   "outputs": [],
   "source": [
    "# Load image with a slightly bigger bbox (0.2° instead of 0.1°)\n",
    "search = api.search(\n",
    "    collections=[\"sentinel-1-grd\"],\n",
    "    bbox=[row[\"LON\"] - 0.2, row[\"LAT\"] - 0.2, row[\"LON\"] + 0.2, row[\"LAT\"] + 0.2],\n",
    "    datetime=f\"{(row['BaseDateTime'] - time_buffer).isoformat()}/{(row['BaseDateTime'] + time_buffer).isoformat()}\",\n",
    "    limit=5,\n",
    "    query={\n",
    "        \"sar:instrument_mode\": {\"eq\": \"IW\"},\n",
    "    }\n",
    ")\n",
    "\n",
    "items = list(search.get_items())\n",
    "\n",
    "tile_geom = shape(items[0].geometry)\n",
    "ais_point = Point(row[\"LON\"], row[\"LAT\"])\n",
    "\n",
    "print(\"Tile bounds:\", tile_geom.bounds)\n",
    "print(\"AIS point inside tile?\", tile_geom.contains(ais_point))"
   ]
  },
  {
   "cell_type": "code",
   "execution_count": null,
   "metadata": {},
   "outputs": [],
   "source": [
    "item = sign(items[0])\n",
    "\n",
    "arr = load(\n",
    "    [item],\n",
    "    bands=['vv', 'vh'],\n",
    "    crs=\"EPSG:4326\",  # Important: forces lat/lon coordinates\n",
    "    resolution=0.0001,  # About 10m at equator\n",
    "    bbox=(row[\"LON\"] - 0.2, row[\"LAT\"] - 0.2, row[\"LON\"] + 0.2, row[\"LAT\"] + 0.2),\n",
    "    groupby=\"solar_day\"\n",
    ")"
   ]
  },
  {
   "cell_type": "code",
   "execution_count": null,
   "metadata": {},
   "outputs": [],
   "source": [
    "print(arr)"
   ]
  },
  {
   "cell_type": "code",
   "execution_count": null,
   "metadata": {},
   "outputs": [],
   "source": [
    "mode = 'vv'"
   ]
  },
  {
   "cell_type": "code",
   "execution_count": null,
   "metadata": {},
   "outputs": [],
   "source": [
    "lat = row[\"LAT\"]\n",
    "lon = row[\"LON\"]\n",
    "buffer = 0.1\n",
    "\n",
    "# Make sure latitude is decreasing (north to south)\n",
    "lat_slice = slice(lat + buffer, lat - buffer)\n",
    "lon_slice = slice(lon - buffer, lon + buffer)\n",
    "\n",
    "crop = arr[mode].sel(\n",
    "    latitude=lat_slice,\n",
    "    longitude=lon_slice\n",
    ").isel(time=0)\n"
   ]
  },
  {
   "cell_type": "code",
   "execution_count": null,
   "metadata": {},
   "outputs": [],
   "source": [
    "arr[mode].shape"
   ]
  },
  {
   "cell_type": "code",
   "execution_count": null,
   "metadata": {},
   "outputs": [],
   "source": [
    "crop.shape"
   ]
  },
  {
   "cell_type": "code",
   "execution_count": null,
   "metadata": {},
   "outputs": [],
   "source": [
    "import xarray as xr\n",
    "import hvplot.xarray\n",
    "\n",
    "img = crop\n",
    "\n",
    "\n",
    "vmin, vmax = np.percentile(img.values[~np.isnan(img.values)], (2, 98))\n",
    "img_clipped = img.clip(min=vmin, max=vmax)\n",
    "\n",
    "plot = img_clipped.hvplot.image(\n",
    "    x='longitude',\n",
    "    y='latitude',\n",
    "    cmap='gray',\n",
    "    frame_width=600,\n",
    "    frame_height=600,\n",
    "    title=f\"Sentinel-1 {mode} @ {lat:.2f}, {lon:.2f}\",\n",
    "    invert=True\n",
    ")\n",
    "\n",
    "plot "
   ]
  },
  {
   "cell_type": "code",
   "execution_count": null,
   "metadata": {},
   "outputs": [],
   "source": [
    "row[['MMSI', 'VesselName', 'SOG', 'Heading', 'Length']]"
   ]
  }
 ],
 "metadata": {
  "kernelspec": {
   "display_name": "venvA",
   "language": "python",
   "name": "python3"
  },
  "language_info": {
   "codemirror_mode": {
    "name": "ipython",
    "version": 3
   },
   "file_extension": ".py",
   "mimetype": "text/x-python",
   "name": "python",
   "nbconvert_exporter": "python",
   "pygments_lexer": "ipython3",
   "version": "3.9.13"
  }
 },
 "nbformat": 4,
 "nbformat_minor": 2
}
