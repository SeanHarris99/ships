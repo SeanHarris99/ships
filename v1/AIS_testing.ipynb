{
 "cells": [
  {
   "cell_type": "code",
   "execution_count": null,
   "metadata": {},
   "outputs": [],
   "source": [
    "import os\n",
    "import requests\n",
    "import pandas as pd\n",
    "import numpy as np"
   ]
  },
  {
   "cell_type": "code",
   "execution_count": null,
   "metadata": {},
   "outputs": [],
   "source": [
    "base_url = \"https://coast.noaa.gov/htdata/CMSP/AISDataHandler/2023/AIS_2023_01_01.zip\"\n",
    "filename = \"AIS_2023_01_01.zip\"\n",
    "r = requests.get(base_url)\n",
    "with open(filename, 'wb') as f:\n",
    "    f.write(r.content)"
   ]
  },
  {
   "cell_type": "code",
   "execution_count": null,
   "metadata": {},
   "outputs": [],
   "source": [
    "df = pd.read_csv(filename)\n",
    "df"
   ]
  },
  {
   "cell_type": "code",
   "execution_count": null,
   "metadata": {},
   "outputs": [],
   "source": [
    "mask1 = df.TransceiverClass == 'A'\n",
    "mask2 = df.SOG > 1\n",
    "mask3 = df.SOG < 80\n",
    "mask4 = df.Length > 30\n",
    "mask5 = df.Length < 400\n",
    "\n",
    "clean_df = df[mask1 & mask2 & mask3 & mask4 & mask5].reset_index(drop=True)\n"
   ]
  },
  {
   "cell_type": "code",
   "execution_count": null,
   "metadata": {},
   "outputs": [],
   "source": [
    "clean_df.SOG.hist(bins=100)"
   ]
  },
  {
   "cell_type": "code",
   "execution_count": null,
   "metadata": {},
   "outputs": [],
   "source": [
    "clean_df.plot.scatter(x='LON', y='LAT')"
   ]
  },
  {
   "cell_type": "code",
   "execution_count": null,
   "metadata": {},
   "outputs": [],
   "source": [
    "gulf_df"
   ]
  },
  {
   "cell_type": "code",
   "execution_count": null,
   "metadata": {},
   "outputs": [],
   "source": [
    "gulf_df = clean_df[\n",
    "    (clean_df[\"LAT\"] >= 21.0) & (clean_df[\"LAT\"] <= 31.0) &\n",
    "    (clean_df[\"LON\"] >= -97.0) & (clean_df[\"LON\"] <= -81.0)\n",
    "].reset_index(drop=True)"
   ]
  },
  {
   "cell_type": "code",
   "execution_count": null,
   "metadata": {},
   "outputs": [],
   "source": [
    "gulf_df = gulf_df.sort_values(by=['MMSI', 'BaseDateTime'])"
   ]
  },
  {
   "cell_type": "code",
   "execution_count": null,
   "metadata": {},
   "outputs": [],
   "source": [
    "id_count = pd.DataFrame(gulf_df.MMSI.value_counts())"
   ]
  },
  {
   "cell_type": "code",
   "execution_count": null,
   "metadata": {},
   "outputs": [],
   "source": [
    "active_ships = id_count[id_count['count'] >= 5].index\n",
    "gulf_df = gulf_df[gulf_df[\"MMSI\"].isin(active_ships)]"
   ]
  },
  {
   "cell_type": "code",
   "execution_count": null,
   "metadata": {},
   "outputs": [],
   "source": [
    "gulf_df.MMSI.value_counts().hist(bins=100)"
   ]
  },
  {
   "cell_type": "code",
   "execution_count": null,
   "metadata": {},
   "outputs": [],
   "source": [
    "gulf_df = gulf_df.reset_index(drop=True)"
   ]
  },
  {
   "cell_type": "code",
   "execution_count": null,
   "metadata": {},
   "outputs": [],
   "source": [
    "gulf_df.describe().round(1)"
   ]
  },
  {
   "cell_type": "code",
   "execution_count": null,
   "metadata": {},
   "outputs": [],
   "source": [
    "gulf_df.Heading = gulf_df.Heading.replace({511: np.nan})"
   ]
  },
  {
   "cell_type": "code",
   "execution_count": null,
   "metadata": {},
   "outputs": [],
   "source": [
    "gulf_df"
   ]
  },
  {
   "cell_type": "markdown",
   "metadata": {},
   "source": [
    "# sat visualization"
   ]
  },
  {
   "cell_type": "code",
   "execution_count": null,
   "metadata": {},
   "outputs": [],
   "source": [
    "# realized theres way too much data\n",
    "# pull in sat meta data, only keep what the sat will end up seeing"
   ]
  },
  {
   "cell_type": "code",
   "execution_count": null,
   "metadata": {},
   "outputs": [],
   "source": [
    "from pystac_client import Client\n",
    "from shapely.geometry import shape, Point\n",
    "\n",
    "import geopandas as gpd\n",
    "import matplotlib.pyplot as plt\n",
    "\n",
    "\n",
    "from datetime import timedelta"
   ]
  },
  {
   "cell_type": "code",
   "execution_count": null,
   "metadata": {},
   "outputs": [],
   "source": [
    "\n",
    "\n",
    "api = Client.open(\"https://planetarycomputer.microsoft.com/api/stac/v1\")\n",
    "\n",
    "results = api.search(\n",
    "    collections=[\"sentinel-2-l2a\"],\n",
    "    bbox=[-97, 21, -81, 31],  # Gulf bounding box\n",
    "    datetime=\"2023-01-01/2023-03-01\",\n",
    "    query={\"eo:cloud_cover\": {\"lt\": 80}}\n",
    ")\n",
    "\n",
    "sentinel_passes = []\n",
    "for item in results.get_all_items():\n",
    "    geom = shape(item.geometry)\n",
    "    dt = item.datetime\n",
    "    sentinel_passes.append((geom, dt))"
   ]
  },
  {
   "cell_type": "code",
   "execution_count": null,
   "metadata": {},
   "outputs": [],
   "source": []
  },
  {
   "cell_type": "code",
   "execution_count": null,
   "metadata": {},
   "outputs": [],
   "source": [
    "jan_passes = [\n",
    "    (poly, dt) for poly, dt in sentinel_passes\n",
    "    if dt.month == 1 and dt.year == 2023 and dt.day == 1\n",
    "]"
   ]
  },
  {
   "cell_type": "code",
   "execution_count": null,
   "metadata": {},
   "outputs": [],
   "source": [
    "geoms = [poly for poly, _ in jan_passes]\n",
    "times = [dt for _, dt in jan_passes]\n",
    "\n",
    "gdf = gpd.GeoDataFrame({'datetime': times}, geometry=geoms, crs='EPSG:4326')\n",
    "\n",
    "# Plot footprints only\n",
    "fig, ax = plt.subplots(figsize=(10, 6))\n",
    "gdf.plot(ax=ax, edgecolor='blue', facecolor='none', linewidth=0.5)\n",
    "ax.set_title('Sentinel-2 Overpasses (Jan 2023)')\n",
    "ax.set_xlabel('Longitude')\n",
    "ax.set_ylabel('Latitude')\n",
    "ax.set_xlim(-97, -81)\n",
    "ax.set_ylim(21, 31)\n",
    "ax.grid(True)\n",
    "plt.show()\n"
   ]
  },
  {
   "cell_type": "code",
   "execution_count": null,
   "metadata": {},
   "outputs": [],
   "source": [
    "\n",
    "\n",
    "# Convert gulf_df into GeoDataFrame\n",
    "ais_gdf = gpd.GeoDataFrame(\n",
    "    intersected_ais_df,\n",
    "    geometry=gpd.points_from_xy(intersected_ais_df[\"LON\"], intersected_ais_df[\"LAT\"]),\n",
    "    crs=\"EPSG:4326\"\n",
    ")\n",
    "\n",
    "# Optional: filter AIS to a single day to avoid clutter\n",
    "ais_gdf[\"BaseDateTime\"] = pd.to_datetime(ais_gdf[\"BaseDateTime\"])\n",
    "ais_day = ais_gdf[\n",
    "    (ais_gdf[\"BaseDateTime\"].dt.date == pd.to_datetime(\"2023-01-01\").date())\n",
    "]\n",
    "\n",
    "# Plot S2 footprints + AIS pings\n",
    "fig, ax = plt.subplots(figsize=(10, 6))\n",
    "gdf.plot(ax=ax, edgecolor='blue', facecolor='none', linewidth=0.5)\n",
    "ais_day.plot(ax=ax, color='red', markersize=2, alpha=0.5)\n",
    "\n",
    "ax.set_xlim(-97, -81)\n",
    "ax.set_ylim(21, 31)\n",
    "ax.set_title('Sentinel-2 Overpasses + AIS Ship Positions (2023-01-01)')\n",
    "ax.set_xlabel('Longitude')\n",
    "ax.set_ylabel('Latitude')\n",
    "ax.grid(True)\n",
    "plt.show()\n"
   ]
  },
  {
   "cell_type": "markdown",
   "metadata": {},
   "source": [
    "# sat intersection"
   ]
  },
  {
   "cell_type": "code",
   "execution_count": null,
   "metadata": {},
   "outputs": [],
   "source": [
    "\n",
    "\n",
    "# Prep sentinel GeoDataFrame\n",
    "poly_list = []\n",
    "time_list = []\n",
    "\n",
    "#Only Sentinel passes from the AIS date we're testing (e.g. Jan 1)\n",
    "target_date = pd.to_datetime(\"2023-01-01\").date()\n",
    "filtered_passes = [\n",
    "    (poly, dt) for poly, dt in sentinel_passes\n",
    "    if dt.date() == target_date\n",
    "]\n",
    "\n",
    "poly_list = [poly for poly, _ in filtered_passes]\n",
    "time_list = [dt for _, dt in filtered_passes]\n",
    "\n",
    "sentinel_gdf = gpd.GeoDataFrame({'datetime': time_list}, geometry=poly_list, crs='EPSG:4326')\n"
   ]
  },
  {
   "cell_type": "code",
   "execution_count": null,
   "metadata": {},
   "outputs": [],
   "source": [
    "# Convert AIS df to GeoDataFrame with timestamp\n",
    "gulf_df[\"BaseDateTime\"] = pd.to_datetime(gulf_df[\"BaseDateTime\"])\n",
    "\n",
    "ais_gdf = gpd.GeoDataFrame(\n",
    "    gulf_df,\n",
    "    geometry=gpd.points_from_xy(gulf_df[\"LON\"], gulf_df[\"LAT\"]),\n",
    "    crs='EPSG:4326'\n",
    ")\n"
   ]
  },
  {
   "cell_type": "code",
   "execution_count": null,
   "metadata": {},
   "outputs": [],
   "source": [
    "ais_gdf[\"BaseDateTime\"] = pd.to_datetime(ais_gdf[\"BaseDateTime\"], utc=True)"
   ]
  },
  {
   "cell_type": "code",
   "execution_count": null,
   "metadata": {},
   "outputs": [],
   "source": [
    "# We'll accumulate matching AIS rows into this list\n",
    "matching_rows = []\n",
    "\n",
    "# Define time window in seconds\n",
    "TIME_WINDOW = timedelta(minutes=30)\n",
    "\n",
    "# Iterate over sentinel polygons\n",
    "for _, s2_row in sentinel_gdf.iterrows():\n",
    "    poly = s2_row.geometry\n",
    "    s2_time = s2_row.datetime\n",
    "\n",
    "    # Filter AIS to time window first (fast)\n",
    "    time_mask = (ais_gdf[\"BaseDateTime\"] >= s2_time - TIME_WINDOW) & \\\n",
    "                (ais_gdf[\"BaseDateTime\"] <= s2_time + TIME_WINDOW)\n",
    "    candidate_ais = ais_gdf[time_mask]\n",
    "\n",
    "    # Spatial filter: points inside this polygon\n",
    "    inside_mask = candidate_ais.geometry.intersects(poly)\n",
    "    intersecting = candidate_ais[inside_mask]\n",
    "\n",
    "    if not intersecting.empty:\n",
    "        matching_rows.append(intersecting)\n",
    "\n",
    "# Concatenate results into one DataFrame\n",
    "intersected_ais_df = pd.concat(matching_rows, ignore_index=True)\n"
   ]
  },
  {
   "cell_type": "code",
   "execution_count": null,
   "metadata": {},
   "outputs": [],
   "source": [
    "intersected_ais_df.describe().round(1)"
   ]
  },
  {
   "cell_type": "code",
   "execution_count": null,
   "metadata": {},
   "outputs": [],
   "source": [
    "print(ais_gdf[\"BaseDateTime\"].iloc[0])\n"
   ]
  },
  {
   "cell_type": "code",
   "execution_count": null,
   "metadata": {},
   "outputs": [],
   "source": [
    "print(sentinel_gdf[\"datetime\"].iloc[0])"
   ]
  },
  {
   "cell_type": "code",
   "execution_count": null,
   "metadata": {},
   "outputs": [],
   "source": [
    "print(sum(len(chunk) for chunk in matching_rows))  # total raw rows before concat\n",
    "print(len(intersected_ais_df))  # actual size after concat"
   ]
  },
  {
   "cell_type": "code",
   "execution_count": null,
   "metadata": {},
   "outputs": [],
   "source": [
    "print(f\"S2 tile at {s2_time}: {len(intersecting)} AIS hits\")\n"
   ]
  },
  {
   "cell_type": "code",
   "execution_count": null,
   "metadata": {},
   "outputs": [],
   "source": [
    "intersected_ais_df.MMSI.value_counts()"
   ]
  }
 ],
 "metadata": {
  "kernelspec": {
   "display_name": "venvA",
   "language": "python",
   "name": "python3"
  },
  "language_info": {
   "codemirror_mode": {
    "name": "ipython",
    "version": 3
   },
   "file_extension": ".py",
   "mimetype": "text/x-python",
   "name": "python",
   "nbconvert_exporter": "python",
   "pygments_lexer": "ipython3",
   "version": "3.9.13"
  }
 },
 "nbformat": 4,
 "nbformat_minor": 2
}
