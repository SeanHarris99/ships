{
 "cells": [
  {
   "cell_type": "code",
   "execution_count": null,
   "metadata": {},
   "outputs": [],
   "source": [
    "import os\n",
    "import pandas as pd\n",
    "\n",
    "from datetime import timedelta\n",
    "import geopandas as gpd\n",
    "import pandas as pd\n",
    "from shapely.geometry import shape, Point\n",
    "from pystac_client import Client"
   ]
  },
  {
   "cell_type": "code",
   "execution_count": null,
   "metadata": {},
   "outputs": [],
   "source": [
    "\n",
    "\n",
    "# Path to your directory of parquet files\n",
    "input_dir = \"data/gulf_jan\"\n",
    "output_path = \"data/gulf_jan/combined_gulf_jan.parquet\"\n",
    "\n",
    "# Get list of parquet files\n",
    "files = [f for f in os.listdir(input_dir) if f.endswith(\".parquet\")]\n",
    "\n",
    "# Load and concatenate\n",
    "dfs = []\n",
    "for f in files:\n",
    "    full_path = os.path.join(input_dir, f)\n",
    "    print(f\"Loading {full_path}\")\n",
    "    dfs.append(pd.read_parquet(full_path))\n",
    "\n",
    "combined_df = pd.concat(dfs, ignore_index=True)\n",
    "print(f\"Combined dataframe shape: {combined_df.shape}\")\n"
   ]
  },
  {
   "cell_type": "code",
   "execution_count": null,
   "metadata": {},
   "outputs": [],
   "source": [
    "combined_df = pd.read_parquet('data/gulf_jan/combined_gulf_jan.parquet')"
   ]
  },
  {
   "cell_type": "code",
   "execution_count": null,
   "metadata": {},
   "outputs": [],
   "source": [
    "\n",
    "\n",
    "# Sentinel-2 metadata query (Jan 2023 over Gulf)\n",
    "api = Client.open(\"https://planetarycomputer.microsoft.com/api/stac/v1\")\n",
    "results = api.search(\n",
    "    collections=[\"sentinel-2-l2a\"],\n",
    "    bbox=[-97, 21, -81, 31],\n",
    "    datetime=\"2023-01-01/2023-01-31\",\n",
    "    query={\"eo:cloud_cover\": {\"lt\": 80}}\n",
    ")\n",
    "\n",
    "sentinel_passes = [(shape(item.geometry), item.datetime) for item in results.get_all_items()]\n",
    "sentinel_gdf = gpd.GeoDataFrame(\n",
    "    {'datetime': [dt for _, dt in sentinel_passes]},\n",
    "    geometry=[poly for poly, _ in sentinel_passes],\n",
    "    crs=\"EPSG:4326\"\n",
    ")\n",
    "\n",
    "# Convert combined AIS dataframe\n",
    "combined_df[\"BaseDateTime\"] = pd.to_datetime(combined_df[\"BaseDateTime\"], utc=True)\n",
    "ais_gdf = gpd.GeoDataFrame(\n",
    "    combined_df,\n",
    "    geometry=gpd.points_from_xy(combined_df[\"LON\"], combined_df[\"LAT\"]),\n",
    "    crs=\"EPSG:4326\"\n",
    ")\n",
    "\n",
    "# Match AIS ↔ S2 by time and space\n",
    "TIME_WINDOW = timedelta(minutes=30)\n",
    "matching_rows = []\n",
    "\n",
    "for _, s2_row in sentinel_gdf.iterrows():\n",
    "    poly = s2_row.geometry\n",
    "    s2_time = s2_row.datetime\n",
    "\n",
    "    time_mask = (\n",
    "        (ais_gdf[\"BaseDateTime\"] >= s2_time - TIME_WINDOW) &\n",
    "        (ais_gdf[\"BaseDateTime\"] <= s2_time + TIME_WINDOW)\n",
    "    )\n",
    "    candidate_ais = ais_gdf[time_mask]\n",
    "    inside_mask = candidate_ais.geometry.intersects(poly)\n",
    "    intersecting = candidate_ais[inside_mask]\n",
    "\n",
    "    if not intersecting.empty:\n",
    "        matching_rows.append(intersecting)\n",
    "\n",
    "# Final output\n",
    "intersected_ais_df = pd.concat(matching_rows, ignore_index=True)\n",
    "print(f\"Intersected AIS samples: {len(intersected_ais_df)}\")\n"
   ]
  },
  {
   "cell_type": "code",
   "execution_count": null,
   "metadata": {},
   "outputs": [],
   "source": [
    "intersected_ais_df.to_parquet('data/gulf_jan/jan_gulf_intersections.ipynb', index=False)"
   ]
  }
 ],
 "metadata": {
  "kernelspec": {
   "display_name": "venvA",
   "language": "python",
   "name": "python3"
  },
  "language_info": {
   "codemirror_mode": {
    "name": "ipython",
    "version": 3
   },
   "file_extension": ".py",
   "mimetype": "text/x-python",
   "name": "python",
   "nbconvert_exporter": "python",
   "pygments_lexer": "ipython3",
   "version": "3.9.13"
  }
 },
 "nbformat": 4,
 "nbformat_minor": 2
}
