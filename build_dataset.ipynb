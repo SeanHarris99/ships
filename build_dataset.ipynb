{
 "cells": [
  {
   "cell_type": "code",
   "execution_count": 1,
   "metadata": {},
   "outputs": [],
   "source": [
    "from datetime import timedelta\n",
    "from io import BytesIO\n",
    "from zipfile import ZipFile\n",
    "import random\n",
    "import os\n",
    "import numpy as np\n",
    "import pandas as pd\n",
    "import geopandas as gpd\n",
    "from shapely.geometry import shape, Point\n",
    "import matplotlib.pyplot as plt\n",
    "from pystac_client import Client\n",
    "from planetary_computer import sign\n",
    "from odc.stac import load\n",
    "import xarray as xr\n",
    "import sqlite3\n",
    "import requests\n",
    "\n",
    "import preprocessing\n"
   ]
  },
  {
   "cell_type": "code",
   "execution_count": null,
   "metadata": {},
   "outputs": [],
   "source": [
    "conn = sqlite3.connect(\"../../data/ais.db\")\n",
    "preprocessing.process_one_day(\"2023-01-01\", \"../../data/sentinel1\", conn)\n",
    "conn.close()"
   ]
  }
 ],
 "metadata": {
  "kernelspec": {
   "display_name": "Python (ships-env)",
   "language": "python",
   "name": "ships-env"
  }
 },
 "nbformat": 4,
 "nbformat_minor": 2
}
